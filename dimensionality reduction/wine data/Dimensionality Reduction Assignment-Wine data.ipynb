{
 "cells": [
  {
   "cell_type": "markdown",
   "metadata": {},
   "source": [
    "# Problem Statement:\n",
    "You work in XYZ Company as a Python. The company officials want you to write code for reducing the dimensions of a dataset\n",
    "Tasks to be performed:\n",
    "- Using load_digits function from sklearn import wines data\n",
    "- Take a look at the shape of image data\n",
    "- Import PCA, LDA and FactorAnalysis from Sklearn\n",
    "- Project data in 2 D space using the PCA, LDA and FactorAnalysis algorithm form sklearn\n",
    "- Take a look at the new data"
   ]
  },
  {
   "cell_type": "code",
   "execution_count": 1,
   "metadata": {
    "id": "wHEEiIxSqvhv"
   },
   "outputs": [],
   "source": [
    "import numpy as np\n",
    "import pandas as pd\n",
    "import matplotlib.pyplot as plt\n",
    "from sklearn import datasets\n",
    "from sklearn.preprocessing import StandardScaler\n",
    "from sklearn.discriminant_analysis import LinearDiscriminantAnalysis\n",
    "from sklearn.decomposition import FactorAnalysis as FA\n",
    "from sklearn.decomposition import PCA\n",
    "from sklearn.model_selection import train_test_split"
   ]
  },
  {
   "cell_type": "code",
   "execution_count": 2,
   "metadata": {
    "id": "LDk8tQslVC3t"
   },
   "outputs": [],
   "source": [
    "# importing the dataset\n",
    "digits = datasets.load_wine()"
   ]
  },
  {
   "cell_type": "code",
   "execution_count": 3,
   "metadata": {
    "id": "tCcgw274BshV",
    "scrolled": true
   },
   "outputs": [
    {
     "data": {
      "text/plain": [
       "{'data': array([[1.423e+01, 1.710e+00, 2.430e+00, ..., 1.040e+00, 3.920e+00,\n",
       "         1.065e+03],\n",
       "        [1.320e+01, 1.780e+00, 2.140e+00, ..., 1.050e+00, 3.400e+00,\n",
       "         1.050e+03],\n",
       "        [1.316e+01, 2.360e+00, 2.670e+00, ..., 1.030e+00, 3.170e+00,\n",
       "         1.185e+03],\n",
       "        ...,\n",
       "        [1.327e+01, 4.280e+00, 2.260e+00, ..., 5.900e-01, 1.560e+00,\n",
       "         8.350e+02],\n",
       "        [1.317e+01, 2.590e+00, 2.370e+00, ..., 6.000e-01, 1.620e+00,\n",
       "         8.400e+02],\n",
       "        [1.413e+01, 4.100e+00, 2.740e+00, ..., 6.100e-01, 1.600e+00,\n",
       "         5.600e+02]]),\n",
       " 'target': array([0, 0, 0, 0, 0, 0, 0, 0, 0, 0, 0, 0, 0, 0, 0, 0, 0, 0, 0, 0, 0, 0,\n",
       "        0, 0, 0, 0, 0, 0, 0, 0, 0, 0, 0, 0, 0, 0, 0, 0, 0, 0, 0, 0, 0, 0,\n",
       "        0, 0, 0, 0, 0, 0, 0, 0, 0, 0, 0, 0, 0, 0, 0, 1, 1, 1, 1, 1, 1, 1,\n",
       "        1, 1, 1, 1, 1, 1, 1, 1, 1, 1, 1, 1, 1, 1, 1, 1, 1, 1, 1, 1, 1, 1,\n",
       "        1, 1, 1, 1, 1, 1, 1, 1, 1, 1, 1, 1, 1, 1, 1, 1, 1, 1, 1, 1, 1, 1,\n",
       "        1, 1, 1, 1, 1, 1, 1, 1, 1, 1, 1, 1, 1, 1, 1, 1, 1, 1, 1, 1, 2, 2,\n",
       "        2, 2, 2, 2, 2, 2, 2, 2, 2, 2, 2, 2, 2, 2, 2, 2, 2, 2, 2, 2, 2, 2,\n",
       "        2, 2, 2, 2, 2, 2, 2, 2, 2, 2, 2, 2, 2, 2, 2, 2, 2, 2, 2, 2, 2, 2,\n",
       "        2, 2]),\n",
       " 'frame': None,\n",
       " 'target_names': array(['class_0', 'class_1', 'class_2'], dtype='<U7'),\n",
       " 'DESCR': '.. _wine_dataset:\\n\\nWine recognition dataset\\n------------------------\\n\\n**Data Set Characteristics:**\\n\\n    :Number of Instances: 178 (50 in each of three classes)\\n    :Number of Attributes: 13 numeric, predictive attributes and the class\\n    :Attribute Information:\\n \\t\\t- Alcohol\\n \\t\\t- Malic acid\\n \\t\\t- Ash\\n\\t\\t- Alcalinity of ash  \\n \\t\\t- Magnesium\\n\\t\\t- Total phenols\\n \\t\\t- Flavanoids\\n \\t\\t- Nonflavanoid phenols\\n \\t\\t- Proanthocyanins\\n\\t\\t- Color intensity\\n \\t\\t- Hue\\n \\t\\t- OD280/OD315 of diluted wines\\n \\t\\t- Proline\\n\\n    - class:\\n            - class_0\\n            - class_1\\n            - class_2\\n\\t\\t\\n    :Summary Statistics:\\n    \\n    ============================= ==== ===== ======= =====\\n                                   Min   Max   Mean     SD\\n    ============================= ==== ===== ======= =====\\n    Alcohol:                      11.0  14.8    13.0   0.8\\n    Malic Acid:                   0.74  5.80    2.34  1.12\\n    Ash:                          1.36  3.23    2.36  0.27\\n    Alcalinity of Ash:            10.6  30.0    19.5   3.3\\n    Magnesium:                    70.0 162.0    99.7  14.3\\n    Total Phenols:                0.98  3.88    2.29  0.63\\n    Flavanoids:                   0.34  5.08    2.03  1.00\\n    Nonflavanoid Phenols:         0.13  0.66    0.36  0.12\\n    Proanthocyanins:              0.41  3.58    1.59  0.57\\n    Colour Intensity:              1.3  13.0     5.1   2.3\\n    Hue:                          0.48  1.71    0.96  0.23\\n    OD280/OD315 of diluted wines: 1.27  4.00    2.61  0.71\\n    Proline:                       278  1680     746   315\\n    ============================= ==== ===== ======= =====\\n\\n    :Missing Attribute Values: None\\n    :Class Distribution: class_0 (59), class_1 (71), class_2 (48)\\n    :Creator: R.A. Fisher\\n    :Donor: Michael Marshall (MARSHALL%PLU@io.arc.nasa.gov)\\n    :Date: July, 1988\\n\\nThis is a copy of UCI ML Wine recognition datasets.\\nhttps://archive.ics.uci.edu/ml/machine-learning-databases/wine/wine.data\\n\\nThe data is the results of a chemical analysis of wines grown in the same\\nregion in Italy by three different cultivators. There are thirteen different\\nmeasurements taken for different constituents found in the three types of\\nwine.\\n\\nOriginal Owners: \\n\\nForina, M. et al, PARVUS - \\nAn Extendible Package for Data Exploration, Classification and Correlation. \\nInstitute of Pharmaceutical and Food Analysis and Technologies,\\nVia Brigata Salerno, 16147 Genoa, Italy.\\n\\nCitation:\\n\\nLichman, M. (2013). UCI Machine Learning Repository\\n[https://archive.ics.uci.edu/ml]. Irvine, CA: University of California,\\nSchool of Information and Computer Science. \\n\\n.. topic:: References\\n\\n  (1) S. Aeberhard, D. Coomans and O. de Vel, \\n  Comparison of Classifiers in High Dimensional Settings, \\n  Tech. Rep. no. 92-02, (1992), Dept. of Computer Science and Dept. of  \\n  Mathematics and Statistics, James Cook University of North Queensland. \\n  (Also submitted to Technometrics). \\n\\n  The data was used with many others for comparing various \\n  classifiers. The classes are separable, though only RDA \\n  has achieved 100% correct classification. \\n  (RDA : 100%, QDA 99.4%, LDA 98.9%, 1NN 96.1% (z-transformed data)) \\n  (All results using the leave-one-out technique) \\n\\n  (2) S. Aeberhard, D. Coomans and O. de Vel, \\n  \"THE CLASSIFICATION PERFORMANCE OF RDA\" \\n  Tech. Rep. no. 92-01, (1992), Dept. of Computer Science and Dept. of \\n  Mathematics and Statistics, James Cook University of North Queensland. \\n  (Also submitted to Journal of Chemometrics).\\n',\n",
       " 'feature_names': ['alcohol',\n",
       "  'malic_acid',\n",
       "  'ash',\n",
       "  'alcalinity_of_ash',\n",
       "  'magnesium',\n",
       "  'total_phenols',\n",
       "  'flavanoids',\n",
       "  'nonflavanoid_phenols',\n",
       "  'proanthocyanins',\n",
       "  'color_intensity',\n",
       "  'hue',\n",
       "  'od280/od315_of_diluted_wines',\n",
       "  'proline']}"
      ]
     },
     "execution_count": 3,
     "metadata": {},
     "output_type": "execute_result"
    }
   ],
   "source": [
    "digits"
   ]
  },
  {
   "cell_type": "code",
   "execution_count": 4,
   "metadata": {
    "colab": {
     "base_uri": "https://localhost:8080/"
    },
    "id": "UIP9bOsBVcq3",
    "outputId": "03540427-75ac-454e-fea0-b6bfa9dfe7ec"
   },
   "outputs": [
    {
     "data": {
      "text/plain": [
       "array([0, 0, 0, 0, 0, 0, 0, 0, 0, 0, 0, 0, 0, 0, 0, 0, 0, 0, 0, 0, 0, 0,\n",
       "       0, 0, 0, 0, 0, 0, 0, 0, 0, 0, 0, 0, 0, 0, 0, 0, 0, 0, 0, 0, 0, 0,\n",
       "       0, 0, 0, 0, 0, 0, 0, 0, 0, 0, 0, 0, 0, 0, 0, 1, 1, 1, 1, 1, 1, 1,\n",
       "       1, 1, 1, 1, 1, 1, 1, 1, 1, 1, 1, 1, 1, 1, 1, 1, 1, 1, 1, 1, 1, 1,\n",
       "       1, 1, 1, 1, 1, 1, 1, 1, 1, 1, 1, 1, 1, 1, 1, 1, 1, 1, 1, 1, 1, 1,\n",
       "       1, 1, 1, 1, 1, 1, 1, 1, 1, 1, 1, 1, 1, 1, 1, 1, 1, 1, 1, 1, 2, 2,\n",
       "       2, 2, 2, 2, 2, 2, 2, 2, 2, 2, 2, 2, 2, 2, 2, 2, 2, 2, 2, 2, 2, 2,\n",
       "       2, 2, 2, 2, 2, 2, 2, 2, 2, 2, 2, 2, 2, 2, 2, 2, 2, 2, 2, 2, 2, 2,\n",
       "       2, 2])"
      ]
     },
     "execution_count": 4,
     "metadata": {},
     "output_type": "execute_result"
    }
   ],
   "source": [
    "digits.target"
   ]
  },
  {
   "cell_type": "code",
   "execution_count": 5,
   "metadata": {
    "colab": {
     "base_uri": "https://localhost:8080/"
    },
    "id": "g4695xMUVeZa",
    "outputId": "3b90fb6e-bd9d-4e5a-bcab-11734745cb08"
   },
   "outputs": [
    {
     "data": {
      "text/plain": [
       "array(['class_0', 'class_1', 'class_2'], dtype='<U7')"
      ]
     },
     "execution_count": 5,
     "metadata": {},
     "output_type": "execute_result"
    }
   ],
   "source": [
    "digits.target_names"
   ]
  },
  {
   "cell_type": "code",
   "execution_count": 6,
   "metadata": {
    "scrolled": true
   },
   "outputs": [
    {
     "name": "stdout",
     "output_type": "stream",
     "text": [
      "[1.423e+01 1.710e+00 2.430e+00 1.560e+01 1.270e+02 2.800e+00 3.060e+00\n",
      " 2.800e-01 2.290e+00 5.640e+00 1.040e+00 3.920e+00 1.065e+03]\n",
      "0\n",
      "[1.32e+01 1.78e+00 2.14e+00 1.12e+01 1.00e+02 2.65e+00 2.76e+00 2.60e-01\n",
      " 1.28e+00 4.38e+00 1.05e+00 3.40e+00 1.05e+03]\n",
      "0\n",
      "[1.316e+01 2.360e+00 2.670e+00 1.860e+01 1.010e+02 2.800e+00 3.240e+00\n",
      " 3.000e-01 2.810e+00 5.680e+00 1.030e+00 3.170e+00 1.185e+03]\n",
      "0\n",
      "[1.437e+01 1.950e+00 2.500e+00 1.680e+01 1.130e+02 3.850e+00 3.490e+00\n",
      " 2.400e-01 2.180e+00 7.800e+00 8.600e-01 3.450e+00 1.480e+03]\n",
      "0\n",
      "[1.324e+01 2.590e+00 2.870e+00 2.100e+01 1.180e+02 2.800e+00 2.690e+00\n",
      " 3.900e-01 1.820e+00 4.320e+00 1.040e+00 2.930e+00 7.350e+02]\n",
      "0\n"
     ]
    }
   ],
   "source": [
    "for image, label in zip(digits.data[0:5], digits.target[0:5]):\n",
    "    print(image)\n",
    "    print(label)"
   ]
  },
  {
   "cell_type": "code",
   "execution_count": 7,
   "metadata": {},
   "outputs": [
    {
     "name": "stdout",
     "output_type": "stream",
     "text": [
      "0\n",
      "ele1\n",
      "1\n",
      "ele2\n",
      "2\n",
      "ele3\n"
     ]
    }
   ],
   "source": [
    "for i,j in enumerate(['ele1','ele2','ele3']):\n",
    "    print(i)\n",
    "    print(j)"
   ]
  },
  {
   "cell_type": "code",
   "execution_count": 8,
   "metadata": {
    "colab": {
     "base_uri": "https://localhost:8080/",
     "height": 118
    },
    "id": "bAMsnzCQBENB",
    "outputId": "3c66409a-cb2b-4fae-dcbd-5087ea0354eb"
   },
   "outputs": [
    {
     "ename": "ValueError",
     "evalue": "cannot reshape array of size 13 into shape (8,8)",
     "output_type": "error",
     "traceback": [
      "\u001b[1;31m---------------------------------------------------------------------------\u001b[0m",
      "\u001b[1;31mValueError\u001b[0m                                Traceback (most recent call last)",
      "Input \u001b[1;32mIn [8]\u001b[0m, in \u001b[0;36m<cell line: 6>\u001b[1;34m()\u001b[0m\n\u001b[0;32m      6\u001b[0m \u001b[38;5;28;01mfor\u001b[39;00m index, (image, label) \u001b[38;5;129;01min\u001b[39;00m \u001b[38;5;28menumerate\u001b[39m(\u001b[38;5;28mzip\u001b[39m(digits\u001b[38;5;241m.\u001b[39mdata[\u001b[38;5;241m0\u001b[39m:\u001b[38;5;241m5\u001b[39m], digits\u001b[38;5;241m.\u001b[39mtarget[\u001b[38;5;241m0\u001b[39m:\u001b[38;5;241m5\u001b[39m])):\n\u001b[0;32m      7\u001b[0m     plt\u001b[38;5;241m.\u001b[39msubplot(\u001b[38;5;241m1\u001b[39m,\u001b[38;5;241m5\u001b[39m, index\u001b[38;5;241m+\u001b[39m\u001b[38;5;241m1\u001b[39m)\n\u001b[1;32m----> 8\u001b[0m     plt\u001b[38;5;241m.\u001b[39mimshow(\u001b[43mnp\u001b[49m\u001b[38;5;241;43m.\u001b[39;49m\u001b[43mreshape\u001b[49m\u001b[43m(\u001b[49m\u001b[43mimage\u001b[49m\u001b[43m,\u001b[49m\u001b[43m \u001b[49m\u001b[43m(\u001b[49m\u001b[38;5;241;43m8\u001b[39;49m\u001b[43m,\u001b[49m\u001b[38;5;241;43m8\u001b[39;49m\u001b[43m)\u001b[49m\u001b[43m)\u001b[49m, cmap\u001b[38;5;241m=\u001b[39mplt\u001b[38;5;241m.\u001b[39mcm\u001b[38;5;241m.\u001b[39mgray)\n\u001b[0;32m      9\u001b[0m     plt\u001b[38;5;241m.\u001b[39mtitle(\u001b[38;5;124mf\u001b[39m\u001b[38;5;124m\"\u001b[39m\u001b[38;5;124mTraining: \u001b[39m\u001b[38;5;132;01m{\u001b[39;00mlabel\u001b[38;5;132;01m}\u001b[39;00m\u001b[38;5;124m\"\u001b[39m, fontsize\u001b[38;5;241m=\u001b[39m\u001b[38;5;241m20\u001b[39m )\n",
      "File \u001b[1;32m<__array_function__ internals>:180\u001b[0m, in \u001b[0;36mreshape\u001b[1;34m(*args, **kwargs)\u001b[0m\n",
      "File \u001b[1;32m~\\anaconda3\\lib\\site-packages\\numpy\\core\\fromnumeric.py:298\u001b[0m, in \u001b[0;36mreshape\u001b[1;34m(a, newshape, order)\u001b[0m\n\u001b[0;32m    198\u001b[0m \u001b[38;5;129m@array_function_dispatch\u001b[39m(_reshape_dispatcher)\n\u001b[0;32m    199\u001b[0m \u001b[38;5;28;01mdef\u001b[39;00m \u001b[38;5;21mreshape\u001b[39m(a, newshape, order\u001b[38;5;241m=\u001b[39m\u001b[38;5;124m'\u001b[39m\u001b[38;5;124mC\u001b[39m\u001b[38;5;124m'\u001b[39m):\n\u001b[0;32m    200\u001b[0m     \u001b[38;5;124;03m\"\"\"\u001b[39;00m\n\u001b[0;32m    201\u001b[0m \u001b[38;5;124;03m    Gives a new shape to an array without changing its data.\u001b[39;00m\n\u001b[0;32m    202\u001b[0m \n\u001b[1;32m   (...)\u001b[0m\n\u001b[0;32m    296\u001b[0m \u001b[38;5;124;03m           [5, 6]])\u001b[39;00m\n\u001b[0;32m    297\u001b[0m \u001b[38;5;124;03m    \"\"\"\u001b[39;00m\n\u001b[1;32m--> 298\u001b[0m     \u001b[38;5;28;01mreturn\u001b[39;00m \u001b[43m_wrapfunc\u001b[49m\u001b[43m(\u001b[49m\u001b[43ma\u001b[49m\u001b[43m,\u001b[49m\u001b[43m \u001b[49m\u001b[38;5;124;43m'\u001b[39;49m\u001b[38;5;124;43mreshape\u001b[39;49m\u001b[38;5;124;43m'\u001b[39;49m\u001b[43m,\u001b[49m\u001b[43m \u001b[49m\u001b[43mnewshape\u001b[49m\u001b[43m,\u001b[49m\u001b[43m \u001b[49m\u001b[43morder\u001b[49m\u001b[38;5;241;43m=\u001b[39;49m\u001b[43morder\u001b[49m\u001b[43m)\u001b[49m\n",
      "File \u001b[1;32m~\\anaconda3\\lib\\site-packages\\numpy\\core\\fromnumeric.py:57\u001b[0m, in \u001b[0;36m_wrapfunc\u001b[1;34m(obj, method, *args, **kwds)\u001b[0m\n\u001b[0;32m     54\u001b[0m     \u001b[38;5;28;01mreturn\u001b[39;00m _wrapit(obj, method, \u001b[38;5;241m*\u001b[39margs, \u001b[38;5;241m*\u001b[39m\u001b[38;5;241m*\u001b[39mkwds)\n\u001b[0;32m     56\u001b[0m \u001b[38;5;28;01mtry\u001b[39;00m:\n\u001b[1;32m---> 57\u001b[0m     \u001b[38;5;28;01mreturn\u001b[39;00m bound(\u001b[38;5;241m*\u001b[39margs, \u001b[38;5;241m*\u001b[39m\u001b[38;5;241m*\u001b[39mkwds)\n\u001b[0;32m     58\u001b[0m \u001b[38;5;28;01mexcept\u001b[39;00m \u001b[38;5;167;01mTypeError\u001b[39;00m:\n\u001b[0;32m     59\u001b[0m     \u001b[38;5;66;03m# A TypeError occurs if the object does have such a method in its\u001b[39;00m\n\u001b[0;32m     60\u001b[0m     \u001b[38;5;66;03m# class, but its signature is not identical to that of NumPy's. This\u001b[39;00m\n\u001b[1;32m   (...)\u001b[0m\n\u001b[0;32m     64\u001b[0m     \u001b[38;5;66;03m# Call _wrapit from within the except clause to ensure a potential\u001b[39;00m\n\u001b[0;32m     65\u001b[0m     \u001b[38;5;66;03m# exception has a traceback chain.\u001b[39;00m\n\u001b[0;32m     66\u001b[0m     \u001b[38;5;28;01mreturn\u001b[39;00m _wrapit(obj, method, \u001b[38;5;241m*\u001b[39margs, \u001b[38;5;241m*\u001b[39m\u001b[38;5;241m*\u001b[39mkwds)\n",
      "\u001b[1;31mValueError\u001b[0m: cannot reshape array of size 13 into shape (8,8)"
     ]
    },
    {
     "data": {
      "image/png": "[encoded data removed]",
      "text/plain": [
       "<Figure size 1440x288 with 1 Axes>"
      ]
     },
     "metadata": {
      "needs_background": "light"
     },
     "output_type": "display_data"
    }
   ],
   "source": [
    "#Displaying some of the images and labels\n",
    "#import numpy as np\n",
    "#import matplotlib.pyplot as plt\n",
    "\n",
    "plt.figure(figsize=(20,4))\n",
    "for index, (image, label) in enumerate(zip(digits.data[0:5], digits.target[0:5])):\n",
    "    plt.subplot(1,5, index+1)\n",
    "    plt.imshow(np.reshape(image, (8,8)), cmap=plt.cm.gray)\n",
    "    plt.title(f\"Training: {label}\", fontsize=20 )  "
   ]
  },
  {
   "cell_type": "code",
   "execution_count": 13,
   "metadata": {
    "colab": {
     "base_uri": "https://localhost:8080/"
    },
    "id": "nvN4PcYBVpBL",
    "outputId": "092b9ec7-2f91-46f1-dd39-8654b046cbe4"
   },
   "outputs": [],
   "source": [
    "#digits.data[0:5]"
   ]
  },
  {
   "cell_type": "code",
   "execution_count": 14,
   "metadata": {
    "colab": {
     "base_uri": "https://localhost:8080/"
    },
    "id": "2s9V2yd2XNBa",
    "outputId": "6d6a9b25-f76f-4ca2-a22a-aa32ae5e644b"
   },
   "outputs": [
    {
     "data": {
      "text/plain": [
       "(1797, 64)"
      ]
     },
     "execution_count": 14,
     "metadata": {},
     "output_type": "execute_result"
    }
   ],
   "source": [
    "X = digits.data\n",
    "y = digits.target\n",
    "\n",
    "X.shape"
   ]
  },
  {
   "cell_type": "code",
   "execution_count": 15,
   "metadata": {},
   "outputs": [
    {
     "data": {
      "text/plain": [
       "(1797,)"
      ]
     },
     "execution_count": 15,
     "metadata": {},
     "output_type": "execute_result"
    }
   ],
   "source": [
    "y.shape"
   ]
  },
  {
   "cell_type": "code",
   "execution_count": 16,
   "metadata": {
    "id": "awEeZMkHYJ4A"
   },
   "outputs": [],
   "source": [
    "#splitting the data \n",
    "X_train, X_test, y_train, y_test = train_test_split(X, y, test_size=0.2, random_state=34)"
   ]
  },
  {
   "cell_type": "code",
   "execution_count": 17,
   "metadata": {},
   "outputs": [
    {
     "data": {
      "text/plain": [
       "array([5, 9, 2, ..., 6, 9, 6])"
      ]
     },
     "execution_count": 17,
     "metadata": {},
     "output_type": "execute_result"
    }
   ],
   "source": [
    "y_train"
   ]
  },
  {
   "cell_type": "code",
   "execution_count": 18,
   "metadata": {
    "colab": {
     "base_uri": "https://localhost:8080/"
    },
    "id": "Sc6FmD6rWFBR",
    "outputId": "9c4f6f89-446e-4ca0-d635-c41ab287f83a"
   },
   "outputs": [],
   "source": [
    "#feature Scaling\n",
    "sc = StandardScaler()\n",
    "X_train = sc.fit_transform(X_train)\n",
    "\n",
    "X_test = sc.transform(X_test)\n",
    "\n"
   ]
  },
  {
   "cell_type": "code",
   "execution_count": 19,
   "metadata": {},
   "outputs": [
    {
     "data": {
      "text/plain": [
       "RandomForestClassifier(random_state=42)"
      ]
     },
     "execution_count": 19,
     "metadata": {},
     "output_type": "execute_result"
    }
   ],
   "source": [
    "from sklearn.ensemble import RandomForestClassifier\n",
    "\n",
    "rf = RandomForestClassifier(n_estimators=100, random_state=42)\n",
    "rf.fit(X_train, y_train)"
   ]
  },
  {
   "cell_type": "code",
   "execution_count": 20,
   "metadata": {
    "scrolled": true
   },
   "outputs": [
    {
     "data": {
      "text/plain": [
       "array([5, 3, 2, 6, 2, 2, 7, 3, 0, 8, 7, 7, 5, 5, 8, 0, 4, 2, 0, 2, 1, 8,\n",
       "       6, 1, 6, 7, 1, 1, 3, 1, 8, 2, 8, 3, 3, 7, 6, 5, 1, 4, 4, 6, 8, 6,\n",
       "       6, 1, 4, 9, 5, 0, 9, 8, 7, 6, 0, 6, 8, 3, 4, 9, 4, 1, 9, 2, 3, 4,\n",
       "       9, 5, 9, 0, 1, 2, 9, 7, 3, 9, 5, 7, 0, 2, 4, 3, 4, 4, 8, 0, 3, 7,\n",
       "       4, 8, 1, 7, 3, 2, 5, 3, 8, 8, 6, 3, 5, 5, 6, 8, 2, 8, 6, 7, 9, 7,\n",
       "       4, 6, 1, 1, 2, 6, 0, 6, 9, 7, 2, 8, 9, 1, 9, 1, 0, 0, 4, 5, 0, 4,\n",
       "       9, 4, 5, 2, 3, 0, 9, 4, 2, 8, 4, 2, 7, 1, 9, 1, 1, 3, 5, 5, 5, 0,\n",
       "       2, 3, 8, 3, 1, 8, 8, 5, 0, 5, 5, 4, 2, 4, 9, 6, 1, 0, 4, 1, 0, 0,\n",
       "       8, 6, 0, 4, 8, 0, 0, 2, 4, 8, 2, 0, 3, 6, 5, 1, 3, 4, 4, 2, 8, 2,\n",
       "       1, 4, 8, 6, 9, 9, 8, 9, 6, 1, 2, 3, 3, 6, 1, 4, 1, 0, 5, 7, 8, 9,\n",
       "       9, 9, 6, 2, 3, 7, 5, 4, 0, 3, 6, 4, 5, 1, 8, 0, 8, 6, 2, 0, 1, 9,\n",
       "       2, 1, 4, 1, 8, 9, 3, 5, 4, 8, 4, 4, 3, 9, 8, 8, 6, 4, 9, 7, 5, 4,\n",
       "       9, 5, 2, 4, 3, 3, 5, 8, 3, 8, 3, 5, 9, 7, 5, 1, 0, 3, 2, 3, 7, 3,\n",
       "       3, 0, 9, 3, 8, 0, 9, 8, 7, 6, 2, 6, 7, 1, 5, 2, 0, 7, 8, 6, 4, 6,\n",
       "       3, 0, 2, 7, 5, 6, 3, 5, 4, 1, 3, 1, 8, 0, 9, 3, 3, 8, 1, 3, 1, 4,\n",
       "       5, 2, 6, 0, 8, 3, 3, 6, 3, 8, 7, 1, 0, 5, 1, 6, 5, 4, 0, 1, 0, 7,\n",
       "       3, 4, 4, 6, 0, 5, 3, 8])"
      ]
     },
     "execution_count": 20,
     "metadata": {},
     "output_type": "execute_result"
    }
   ],
   "source": [
    "y_pred = rf.predict(X_test)\n",
    "y_pred"
   ]
  },
  {
   "cell_type": "code",
   "execution_count": 21,
   "metadata": {},
   "outputs": [
    {
     "data": {
      "text/plain": [
       "array([5, 3, 2, 6, 2, 2, 7, 3, 0, 8, 7, 7, 5, 5, 8, 0, 4, 2, 0, 2, 1, 8,\n",
       "       6, 1, 6, 7, 1, 1, 3, 1, 8, 2, 8, 3, 3, 7, 6, 5, 1, 4, 4, 6, 8, 6,\n",
       "       6, 1, 4, 9, 5, 0, 9, 8, 7, 6, 0, 6, 8, 3, 4, 3, 4, 1, 9, 2, 3, 4,\n",
       "       9, 5, 9, 0, 1, 2, 9, 7, 3, 9, 5, 7, 0, 2, 4, 3, 4, 4, 3, 0, 3, 7,\n",
       "       4, 8, 1, 7, 3, 2, 5, 3, 8, 8, 6, 3, 5, 5, 6, 8, 2, 8, 6, 7, 9, 7,\n",
       "       4, 6, 1, 1, 2, 6, 0, 6, 9, 7, 2, 5, 9, 1, 9, 1, 0, 0, 4, 5, 0, 4,\n",
       "       9, 4, 5, 2, 3, 0, 9, 4, 2, 8, 4, 2, 7, 1, 9, 1, 1, 3, 5, 5, 5, 0,\n",
       "       2, 3, 8, 3, 1, 8, 8, 5, 0, 5, 5, 4, 2, 4, 3, 6, 1, 0, 4, 1, 0, 0,\n",
       "       8, 6, 0, 4, 8, 0, 0, 2, 4, 8, 2, 0, 3, 6, 5, 1, 3, 4, 4, 2, 8, 2,\n",
       "       1, 4, 8, 6, 9, 9, 8, 9, 5, 8, 2, 3, 3, 6, 1, 4, 1, 0, 5, 7, 8, 9,\n",
       "       9, 9, 6, 2, 3, 7, 5, 4, 0, 3, 6, 4, 5, 1, 8, 0, 8, 6, 2, 0, 1, 9,\n",
       "       2, 1, 6, 1, 8, 9, 3, 5, 4, 8, 4, 4, 8, 9, 8, 8, 6, 4, 3, 7, 5, 4,\n",
       "       9, 5, 2, 4, 3, 3, 5, 8, 3, 8, 3, 5, 9, 7, 5, 1, 0, 3, 2, 3, 7, 3,\n",
       "       3, 0, 5, 3, 8, 0, 9, 8, 7, 6, 2, 6, 7, 1, 5, 2, 0, 7, 8, 6, 4, 6,\n",
       "       3, 0, 2, 7, 5, 6, 3, 5, 4, 1, 3, 1, 8, 0, 9, 3, 3, 8, 1, 3, 1, 4,\n",
       "       5, 2, 6, 0, 8, 3, 3, 6, 9, 8, 7, 1, 0, 5, 1, 6, 5, 0, 0, 1, 0, 7,\n",
       "       3, 4, 4, 6, 0, 5, 3, 8])"
      ]
     },
     "execution_count": 21,
     "metadata": {},
     "output_type": "execute_result"
    }
   ],
   "source": [
    "y_test"
   ]
  },
  {
   "cell_type": "code",
   "execution_count": 22,
   "metadata": {},
   "outputs": [],
   "source": [
    "from sklearn.metrics import accuracy_score, classification_report, confusion_matrix\n",
    "\n",
    "acc = accuracy_score(y_test, y_pred)"
   ]
  },
  {
   "cell_type": "code",
   "execution_count": 23,
   "metadata": {},
   "outputs": [
    {
     "data": {
      "text/plain": [
       "0.9666666666666667"
      ]
     },
     "execution_count": 23,
     "metadata": {},
     "output_type": "execute_result"
    }
   ],
   "source": [
    "acc"
   ]
  },
  {
   "cell_type": "code",
   "execution_count": 24,
   "metadata": {},
   "outputs": [
    {
     "name": "stdout",
     "output_type": "stream",
     "text": [
      "[[37  0  0  0  1  0  0  0  0  0]\n",
      " [ 0 37  0  0  0  0  0  0  0  0]\n",
      " [ 0  0 32  0  0  0  0  0  0  0]\n",
      " [ 0  0  0 43  0  0  0  0  1  3]\n",
      " [ 0  0  0  0 39  0  0  0  0  0]\n",
      " [ 0  0  0  0  0 35  1  0  1  1]\n",
      " [ 0  0  0  0  1  0 33  0  0  0]\n",
      " [ 0  0  0  0  0  0  0 25  0  0]\n",
      " [ 0  1  0  1  0  0  0  0 40  0]\n",
      " [ 0  0  0  1  0  0  0  0  0 27]]\n"
     ]
    }
   ],
   "source": [
    "print(confusion_matrix(y_test,y_pred))"
   ]
  },
  {
   "cell_type": "markdown",
   "metadata": {},
   "source": [
    "# LDA"
   ]
  },
  {
   "cell_type": "code",
   "execution_count": 25,
   "metadata": {
    "colab": {
     "base_uri": "https://localhost:8080/"
    },
    "id": "GVrhiMRGWGZx",
    "outputId": "b7e97ee7-ba31-4d70-ef3c-00321bccf93f"
   },
   "outputs": [
    {
     "data": {
      "text/plain": [
       "(1437, 9)"
      ]
     },
     "execution_count": 25,
     "metadata": {},
     "output_type": "execute_result"
    }
   ],
   "source": [
    "#LDA\n",
    "lda = LinearDiscriminantAnalysis(n_components=9)\n",
    "X_train = lda.fit_transform(X_train, y_train)\n",
    "X_test = lda.transform(X_test) \n",
    "X_train.shape"
   ]
  },
  {
   "cell_type": "code",
   "execution_count": 26,
   "metadata": {},
   "outputs": [
    {
     "data": {
      "text/plain": [
       "<matplotlib.image.AxesImage at 0x256a0f2c1f0>"
      ]
     },
     "execution_count": 26,
     "metadata": {},
     "output_type": "execute_result"
    },
    {
     "data": {
      "image/png": "[encoded data removed]",
      "text/plain": [
       "<Figure size 432x288 with 1 Axes>"
      ]
     },
     "metadata": {
      "needs_background": "light"
     },
     "output_type": "display_data"
    }
   ],
   "source": [
    "plt.imshow(np.reshape(X_train[1], (3,3)), cmap=plt.cm.gray)"
   ]
  },
  {
   "cell_type": "code",
   "execution_count": 27,
   "metadata": {},
   "outputs": [
    {
     "data": {
      "text/plain": [
       "array([[-0.26817836,  2.38445762, -0.85478075, ..., -0.35400743,\n",
       "        -0.46040748,  0.06224327],\n",
       "       [-0.93375203,  0.69151537, -1.8879891 , ...,  0.07044064,\n",
       "         2.04126735, -0.8936843 ],\n",
       "       [-4.69508194, -3.09413291,  1.6885823 , ...,  0.62528657,\n",
       "        -0.31015128, -0.31123107],\n",
       "       ...,\n",
       "       [ 4.138023  , -2.11108426,  2.64799518, ..., -0.49374305,\n",
       "         0.33872172,  0.02081878],\n",
       "       [-3.46127737,  1.22408742, -0.87902174, ..., -0.47060545,\n",
       "         0.28372556,  0.03812993],\n",
       "       [ 3.55515742, -0.6198338 ,  2.49086808, ..., -0.63585108,\n",
       "        -0.04334568,  0.01364586]])"
      ]
     },
     "execution_count": 27,
     "metadata": {},
     "output_type": "execute_result"
    }
   ],
   "source": [
    "X_train"
   ]
  },
  {
   "cell_type": "code",
   "execution_count": 28,
   "metadata": {
    "colab": {
     "base_uri": "https://localhost:8080/"
    },
    "id": "mlpXbATUWH0H",
    "outputId": "9ea7ffa4-b0af-46fc-9de8-b7d9d37680ad"
   },
   "outputs": [
    {
     "data": {
      "text/plain": [
       "RandomForestClassifier(random_state=42)"
      ]
     },
     "execution_count": 28,
     "metadata": {},
     "output_type": "execute_result"
    }
   ],
   "source": [
    "#model Building \n",
    "from sklearn.ensemble import RandomForestClassifier\n",
    "\n",
    "rf1 = RandomForestClassifier(n_estimators=100, random_state=42)\n",
    "rf1.fit(X_train, y_train)"
   ]
  },
  {
   "cell_type": "code",
   "execution_count": 29,
   "metadata": {
    "id": "jE29yzskWJtx"
   },
   "outputs": [],
   "source": [
    "#prediction\n",
    "y_pred1 = rf1.predict(X_test)"
   ]
  },
  {
   "cell_type": "code",
   "execution_count": 30,
   "metadata": {
    "scrolled": true
   },
   "outputs": [
    {
     "data": {
      "text/plain": [
       "array([5, 3, 2, 6, 2, 2, 7, 3, 0, 8, 7, 7, 5, 5, 8, 0, 4, 2, 0, 2, 1, 8,\n",
       "       6, 1, 6, 7, 1, 1, 3, 1, 8, 2, 8, 3, 3, 7, 6, 5, 1, 4, 4, 6, 8, 6,\n",
       "       6, 9, 4, 9, 9, 0, 9, 8, 7, 6, 0, 6, 8, 3, 4, 3, 8, 1, 9, 2, 3, 4,\n",
       "       9, 5, 9, 0, 1, 2, 8, 7, 3, 9, 5, 7, 0, 2, 4, 3, 4, 4, 3, 0, 3, 7,\n",
       "       4, 8, 1, 8, 3, 2, 5, 3, 8, 8, 6, 3, 5, 5, 6, 8, 2, 8, 6, 7, 9, 7,\n",
       "       4, 6, 1, 1, 2, 6, 0, 6, 9, 7, 2, 3, 9, 1, 9, 1, 0, 0, 4, 5, 0, 4,\n",
       "       9, 4, 5, 2, 3, 0, 9, 4, 2, 8, 4, 2, 7, 1, 9, 1, 1, 3, 5, 5, 5, 0,\n",
       "       2, 3, 8, 3, 1, 8, 8, 5, 0, 5, 5, 4, 2, 4, 3, 6, 1, 0, 4, 1, 0, 0,\n",
       "       8, 6, 0, 4, 8, 0, 0, 2, 4, 8, 2, 0, 3, 6, 5, 1, 3, 4, 4, 2, 1, 2,\n",
       "       1, 4, 8, 6, 7, 9, 8, 9, 5, 1, 2, 3, 3, 6, 1, 4, 1, 0, 5, 7, 8, 9,\n",
       "       9, 9, 6, 2, 3, 7, 5, 4, 0, 3, 6, 4, 5, 1, 8, 0, 8, 6, 2, 0, 9, 9,\n",
       "       2, 1, 6, 1, 8, 9, 3, 5, 4, 8, 4, 4, 8, 9, 8, 8, 6, 4, 3, 7, 5, 4,\n",
       "       9, 5, 2, 4, 9, 3, 5, 8, 3, 8, 3, 5, 9, 7, 5, 1, 0, 3, 2, 3, 7, 9,\n",
       "       3, 0, 9, 3, 8, 0, 9, 8, 7, 6, 2, 6, 7, 1, 5, 2, 0, 7, 8, 6, 4, 6,\n",
       "       3, 0, 2, 7, 5, 6, 3, 5, 4, 1, 3, 1, 8, 0, 9, 3, 3, 8, 4, 3, 1, 4,\n",
       "       5, 2, 6, 0, 8, 3, 3, 6, 9, 8, 7, 1, 0, 5, 1, 6, 5, 4, 0, 1, 0, 7,\n",
       "       3, 4, 4, 6, 0, 5, 8, 8])"
      ]
     },
     "execution_count": 30,
     "metadata": {},
     "output_type": "execute_result"
    }
   ],
   "source": [
    "y_pred1"
   ]
  },
  {
   "cell_type": "code",
   "execution_count": 31,
   "metadata": {},
   "outputs": [
    {
     "data": {
      "text/plain": [
       "array([5, 3, 2, 6, 2, 2, 7, 3, 0, 8, 7, 7, 5, 5, 8, 0, 4, 2, 0, 2, 1, 8,\n",
       "       6, 1, 6, 7, 1, 1, 3, 1, 8, 2, 8, 3, 3, 7, 6, 5, 1, 4, 4, 6, 8, 6,\n",
       "       6, 1, 4, 9, 5, 0, 9, 8, 7, 6, 0, 6, 8, 3, 4, 3, 4, 1, 9, 2, 3, 4,\n",
       "       9, 5, 9, 0, 1, 2, 9, 7, 3, 9, 5, 7, 0, 2, 4, 3, 4, 4, 3, 0, 3, 7,\n",
       "       4, 8, 1, 7, 3, 2, 5, 3, 8, 8, 6, 3, 5, 5, 6, 8, 2, 8, 6, 7, 9, 7,\n",
       "       4, 6, 1, 1, 2, 6, 0, 6, 9, 7, 2, 5, 9, 1, 9, 1, 0, 0, 4, 5, 0, 4,\n",
       "       9, 4, 5, 2, 3, 0, 9, 4, 2, 8, 4, 2, 7, 1, 9, 1, 1, 3, 5, 5, 5, 0,\n",
       "       2, 3, 8, 3, 1, 8, 8, 5, 0, 5, 5, 4, 2, 4, 3, 6, 1, 0, 4, 1, 0, 0,\n",
       "       8, 6, 0, 4, 8, 0, 0, 2, 4, 8, 2, 0, 3, 6, 5, 1, 3, 4, 4, 2, 8, 2,\n",
       "       1, 4, 8, 6, 9, 9, 8, 9, 5, 8, 2, 3, 3, 6, 1, 4, 1, 0, 5, 7, 8, 9,\n",
       "       9, 9, 6, 2, 3, 7, 5, 4, 0, 3, 6, 4, 5, 1, 8, 0, 8, 6, 2, 0, 1, 9,\n",
       "       2, 1, 6, 1, 8, 9, 3, 5, 4, 8, 4, 4, 8, 9, 8, 8, 6, 4, 3, 7, 5, 4,\n",
       "       9, 5, 2, 4, 3, 3, 5, 8, 3, 8, 3, 5, 9, 7, 5, 1, 0, 3, 2, 3, 7, 3,\n",
       "       3, 0, 5, 3, 8, 0, 9, 8, 7, 6, 2, 6, 7, 1, 5, 2, 0, 7, 8, 6, 4, 6,\n",
       "       3, 0, 2, 7, 5, 6, 3, 5, 4, 1, 3, 1, 8, 0, 9, 3, 3, 8, 1, 3, 1, 4,\n",
       "       5, 2, 6, 0, 8, 3, 3, 6, 9, 8, 7, 1, 0, 5, 1, 6, 5, 0, 0, 1, 0, 7,\n",
       "       3, 4, 4, 6, 0, 5, 3, 8])"
      ]
     },
     "execution_count": 31,
     "metadata": {},
     "output_type": "execute_result"
    }
   ],
   "source": [
    "y_test"
   ]
  },
  {
   "cell_type": "code",
   "execution_count": 32,
   "metadata": {
    "id": "oe20nWIiWKkv"
   },
   "outputs": [],
   "source": [
    "#accuracy Score\n",
    "from sklearn.metrics import accuracy_score, classification_report, confusion_matrix\n",
    "\n",
    "acc = accuracy_score(y_test, y_pred1)\n",
    "cf = confusion_matrix(y_test, y_pred1)\n",
    "clrep = classification_report(y_test, y_pred1)"
   ]
  },
  {
   "cell_type": "code",
   "execution_count": 33,
   "metadata": {
    "colab": {
     "base_uri": "https://localhost:8080/"
    },
    "id": "Xx21NBRFb33T",
    "outputId": "0b659069-ae44-40de-ea93-00c468649dfc"
   },
   "outputs": [
    {
     "name": "stdout",
     "output_type": "stream",
     "text": [
      "0.9555555555555556\n"
     ]
    }
   ],
   "source": [
    "print(acc)"
   ]
  },
  {
   "cell_type": "code",
   "execution_count": 34,
   "metadata": {},
   "outputs": [
    {
     "data": {
      "text/plain": [
       "array([[37,  0,  0,  0,  1,  0,  0,  0,  0,  0],\n",
       "       [ 0, 34,  0,  0,  1,  0,  0,  0,  0,  2],\n",
       "       [ 0,  0, 32,  0,  0,  0,  0,  0,  0,  0],\n",
       "       [ 0,  0,  0, 44,  0,  0,  0,  0,  1,  2],\n",
       "       [ 0,  0,  0,  0, 38,  0,  0,  0,  1,  0],\n",
       "       [ 0,  0,  0,  1,  0, 35,  0,  0,  0,  2],\n",
       "       [ 0,  0,  0,  0,  0,  0, 34,  0,  0,  0],\n",
       "       [ 0,  0,  0,  0,  0,  0,  0, 24,  1,  0],\n",
       "       [ 0,  2,  0,  0,  0,  0,  0,  0, 40,  0],\n",
       "       [ 0,  0,  0,  0,  0,  0,  0,  1,  1, 26]], dtype=int64)"
      ]
     },
     "execution_count": 34,
     "metadata": {},
     "output_type": "execute_result"
    }
   ],
   "source": [
    "cf"
   ]
  },
  {
   "cell_type": "code",
   "execution_count": 35,
   "metadata": {},
   "outputs": [
    {
     "data": {
      "text/plain": [
       "'\\n         0    1   2   3   4   5   6   7   8   9\\n   0    [32,  0,  0,  0,  1,  0,  0,  0,  0,  0],\\n    1   [ 0, 27,  1,  0,  0,  0,  0,  0,  0,  0],\\n    2   [ 0,  0, 31,  2,  0,  0,  0,  0,  0,  0],\\n    3   [ 0,  0,  0, 33,  0,  1,  0,  0,  0,  0],\\n    4   [ 0,  0,  0,  0, 45,  0,  0,  1,  0,  0],\\n    5   [ 0,  0,  0,  0,  0, 46,  0,  0,  1,  0],\\n    6   [ 0,  0,  0,  0,  1,  0, 34,  0,  0,  0],\\n    7   [ 0,  0,  0,  0,  0,  0,  0, 33,  0,  1],\\n    8   [ 0,  2,  0,  0,  0,  0,  0,  0, 27,  1],\\n    9   [ 0,  0,  0,  1,  1,  0,  0,  0,  1, 37]\\n'"
      ]
     },
     "execution_count": 35,
     "metadata": {},
     "output_type": "execute_result"
    }
   ],
   "source": [
    "'''\n",
    "         0    1   2   3   4   5   6   7   8   9\n",
    "   0    [32,  0,  0,  0,  1,  0,  0,  0,  0,  0],\n",
    "    1   [ 0, 27,  1,  0,  0,  0,  0,  0,  0,  0],\n",
    "    2   [ 0,  0, 31,  2,  0,  0,  0,  0,  0,  0],\n",
    "    3   [ 0,  0,  0, 33,  0,  1,  0,  0,  0,  0],\n",
    "    4   [ 0,  0,  0,  0, 45,  0,  0,  1,  0,  0],\n",
    "    5   [ 0,  0,  0,  0,  0, 46,  0,  0,  1,  0],\n",
    "    6   [ 0,  0,  0,  0,  1,  0, 34,  0,  0,  0],\n",
    "    7   [ 0,  0,  0,  0,  0,  0,  0, 33,  0,  1],\n",
    "    8   [ 0,  2,  0,  0,  0,  0,  0,  0, 27,  1],\n",
    "    9   [ 0,  0,  0,  1,  1,  0,  0,  0,  1, 37]\n",
    "'''"
   ]
  },
  {
   "cell_type": "code",
   "execution_count": 36,
   "metadata": {},
   "outputs": [
    {
     "name": "stdout",
     "output_type": "stream",
     "text": [
      "              precision    recall  f1-score   support\n",
      "\n",
      "           0       1.00      0.97      0.99        38\n",
      "           1       0.94      0.92      0.93        37\n",
      "           2       1.00      1.00      1.00        32\n",
      "           3       0.98      0.94      0.96        47\n",
      "           4       0.95      0.97      0.96        39\n",
      "           5       1.00      0.92      0.96        38\n",
      "           6       1.00      1.00      1.00        34\n",
      "           7       0.96      0.96      0.96        25\n",
      "           8       0.91      0.95      0.93        42\n",
      "           9       0.81      0.93      0.87        28\n",
      "\n",
      "    accuracy                           0.96       360\n",
      "   macro avg       0.96      0.96      0.96       360\n",
      "weighted avg       0.96      0.96      0.96       360\n",
      "\n"
     ]
    }
   ],
   "source": [
    "print(clrep)"
   ]
  },
  {
   "cell_type": "code",
   "execution_count": 37,
   "metadata": {
    "colab": {
     "base_uri": "https://localhost:8080/",
     "height": 283
    },
    "id": "2-jqWtwNcMNq",
    "outputId": "16b62d2b-9ef4-4c15-ca4b-4ace5a1a1a12"
   },
   "outputs": [
    {
     "data": {
      "text/plain": [
       "<AxesSubplot:>"
      ]
     },
     "execution_count": 37,
     "metadata": {},
     "output_type": "execute_result"
    },
    {
     "data": {
      "image/png": "[encoded data removed]",
      "text/plain": [
       "<Figure size 432x288 with 2 Axes>"
      ]
     },
     "metadata": {
      "needs_background": "light"
     },
     "output_type": "display_data"
    }
   ],
   "source": [
    "import seaborn as sns\n",
    "sns.heatmap(cf)"
   ]
  },
  {
   "cell_type": "code",
   "execution_count": 38,
   "metadata": {
    "colab": {
     "base_uri": "https://localhost:8080/"
    },
    "id": "-fOCYFmAcxdN",
    "outputId": "a625140a-9ce1-4427-e059-fe9bd59a23f2"
   },
   "outputs": [
    {
     "data": {
      "text/plain": [
       "array([5, 3, 2, 6, 2, 2, 7, 3, 0, 8, 7, 7, 5, 5, 8, 0, 4, 2, 0, 2, 1, 8,\n",
       "       6, 1, 6, 7, 1, 1, 3, 1, 8, 2, 8, 3, 3, 7, 6, 5, 1, 4, 4, 6, 8, 6,\n",
       "       6, 1, 4, 9, 5, 0, 9, 8, 7, 6, 0, 6, 8, 3, 4, 3, 4, 1, 9, 2, 3, 4,\n",
       "       9, 5, 9, 0, 1, 2, 9, 7, 3, 9, 5, 7, 0, 2, 4, 3, 4, 4, 3, 0, 3, 7,\n",
       "       4, 8, 1, 7, 3, 2, 5, 3, 8, 8, 6, 3, 5, 5, 6, 8, 2, 8, 6, 7, 9, 7,\n",
       "       4, 6, 1, 1, 2, 6, 0, 6, 9, 7, 2, 5, 9, 1, 9, 1, 0, 0, 4, 5, 0, 4,\n",
       "       9, 4, 5, 2, 3, 0, 9, 4, 2, 8, 4, 2, 7, 1, 9, 1, 1, 3, 5, 5, 5, 0,\n",
       "       2, 3, 8, 3, 1, 8, 8, 5, 0, 5, 5, 4, 2, 4, 3, 6, 1, 0, 4, 1, 0, 0,\n",
       "       8, 6, 0, 4, 8, 0, 0, 2, 4, 8, 2, 0, 3, 6, 5, 1, 3, 4, 4, 2, 8, 2,\n",
       "       1, 4, 8, 6, 9, 9, 8, 9, 5, 8, 2, 3, 3, 6, 1, 4, 1, 0, 5, 7, 8, 9,\n",
       "       9, 9, 6, 2, 3, 7, 5, 4, 0, 3, 6, 4, 5, 1, 8, 0, 8, 6, 2, 0, 1, 9,\n",
       "       2, 1, 6, 1, 8, 9, 3, 5, 4, 8, 4, 4, 8, 9, 8, 8, 6, 4, 3, 7, 5, 4,\n",
       "       9, 5, 2, 4, 3, 3, 5, 8, 3, 8, 3, 5, 9, 7, 5, 1, 0, 3, 2, 3, 7, 3,\n",
       "       3, 0, 5, 3, 8, 0, 9, 8, 7, 6, 2, 6, 7, 1, 5, 2, 0, 7, 8, 6, 4, 6,\n",
       "       3, 0, 2, 7, 5, 6, 3, 5, 4, 1, 3, 1, 8, 0, 9, 3, 3, 8, 1, 3, 1, 4,\n",
       "       5, 2, 6, 0, 8, 3, 3, 6, 9, 8, 7, 1, 0, 5, 1, 6, 5, 0, 0, 1, 0, 7,\n",
       "       3, 4, 4, 6, 0, 5, 3, 8])"
      ]
     },
     "execution_count": 38,
     "metadata": {},
     "output_type": "execute_result"
    }
   ],
   "source": [
    "y_test"
   ]
  },
  {
   "cell_type": "code",
   "execution_count": 39,
   "metadata": {
    "colab": {
     "base_uri": "https://localhost:8080/"
    },
    "id": "H-lfwVv7jQgF",
    "outputId": "cd7ee581-7bb9-4d7f-c37b-2eabb57f2579"
   },
   "outputs": [
    {
     "data": {
      "text/plain": [
       "array([5, 3, 2, 6, 2, 2, 7, 3, 0, 8, 7, 7, 5, 5, 8, 0, 4, 2, 0, 2, 1, 8,\n",
       "       6, 1, 6, 7, 1, 1, 3, 1, 8, 2, 8, 3, 3, 7, 6, 5, 1, 4, 4, 6, 8, 6,\n",
       "       6, 9, 4, 9, 9, 0, 9, 8, 7, 6, 0, 6, 8, 3, 4, 3, 8, 1, 9, 2, 3, 4,\n",
       "       9, 5, 9, 0, 1, 2, 8, 7, 3, 9, 5, 7, 0, 2, 4, 3, 4, 4, 3, 0, 3, 7,\n",
       "       4, 8, 1, 8, 3, 2, 5, 3, 8, 8, 6, 3, 5, 5, 6, 8, 2, 8, 6, 7, 9, 7,\n",
       "       4, 6, 1, 1, 2, 6, 0, 6, 9, 7, 2, 3, 9, 1, 9, 1, 0, 0, 4, 5, 0, 4,\n",
       "       9, 4, 5, 2, 3, 0, 9, 4, 2, 8, 4, 2, 7, 1, 9, 1, 1, 3, 5, 5, 5, 0,\n",
       "       2, 3, 8, 3, 1, 8, 8, 5, 0, 5, 5, 4, 2, 4, 3, 6, 1, 0, 4, 1, 0, 0,\n",
       "       8, 6, 0, 4, 8, 0, 0, 2, 4, 8, 2, 0, 3, 6, 5, 1, 3, 4, 4, 2, 1, 2,\n",
       "       1, 4, 8, 6, 7, 9, 8, 9, 5, 1, 2, 3, 3, 6, 1, 4, 1, 0, 5, 7, 8, 9,\n",
       "       9, 9, 6, 2, 3, 7, 5, 4, 0, 3, 6, 4, 5, 1, 8, 0, 8, 6, 2, 0, 9, 9,\n",
       "       2, 1, 6, 1, 8, 9, 3, 5, 4, 8, 4, 4, 8, 9, 8, 8, 6, 4, 3, 7, 5, 4,\n",
       "       9, 5, 2, 4, 9, 3, 5, 8, 3, 8, 3, 5, 9, 7, 5, 1, 0, 3, 2, 3, 7, 9,\n",
       "       3, 0, 9, 3, 8, 0, 9, 8, 7, 6, 2, 6, 7, 1, 5, 2, 0, 7, 8, 6, 4, 6,\n",
       "       3, 0, 2, 7, 5, 6, 3, 5, 4, 1, 3, 1, 8, 0, 9, 3, 3, 8, 4, 3, 1, 4,\n",
       "       5, 2, 6, 0, 8, 3, 3, 6, 9, 8, 7, 1, 0, 5, 1, 6, 5, 4, 0, 1, 0, 7,\n",
       "       3, 4, 4, 6, 0, 5, 8, 8])"
      ]
     },
     "execution_count": 39,
     "metadata": {},
     "output_type": "execute_result"
    }
   ],
   "source": [
    "y_pred1"
   ]
  },
  {
   "cell_type": "code",
   "execution_count": 40,
   "metadata": {
    "colab": {
     "base_uri": "https://localhost:8080/",
     "height": 94
    },
    "id": "M73zIGmCjjO9",
    "outputId": "3162843b-1754-47ca-f5c0-bf9f3758b74e"
   },
   "outputs": [],
   "source": [
    "def get_misclassified_index(y_pred,y_test):\n",
    "    misclassification=[]#help us out to get the misclassified index value\n",
    "    for index,(predicted,actual) in enumerate(zip(y_pred,y_test)):\n",
    "        if predicted!=actual:\n",
    "            misclassification.append(index)\n",
    "            \n",
    "    return misclassification"
   ]
  },
  {
   "cell_type": "code",
   "execution_count": 41,
   "metadata": {},
   "outputs": [],
   "source": [
    "misclassification = get_misclassified_index(y_pred1,y_test)"
   ]
  },
  {
   "cell_type": "code",
   "execution_count": 42,
   "metadata": {},
   "outputs": [
    {
     "data": {
      "text/plain": [
       "[45, 48, 60, 72, 91, 121, 196, 202, 207, 240, 268, 285, 288, 326, 347, 358]"
      ]
     },
     "execution_count": 42,
     "metadata": {},
     "output_type": "execute_result"
    }
   ],
   "source": [
    "misclassification"
   ]
  },
  {
   "cell_type": "code",
   "execution_count": null,
   "metadata": {},
   "outputs": [],
   "source": []
  },
  {
   "cell_type": "code",
   "execution_count": 43,
   "metadata": {},
   "outputs": [],
   "source": [
    "def plot_misclassifications(misclassification):\n",
    "    plt.figure(figsize=(20,4))\n",
    "    for index,wrong in enumerate(misclassification[0:5]):\n",
    "        plt.subplot(1,5,index+1)\n",
    "        plt.imshow(np.reshape(X_test[wrong],(3,3)),cmap=plt.cm.gray)\n",
    "        plt.title(\"Predicted:{} Actual:{}\".format(y_pred1[wrong],y_test[wrong]))"
   ]
  },
  {
   "cell_type": "code",
   "execution_count": 44,
   "metadata": {
    "colab": {
     "base_uri": "https://localhost:8080/",
     "height": 94
    },
    "id": "aLWLmmTFB-Zk",
    "outputId": "753792fe-cdae-4d1e-bcab-b9cae1cc68d4"
   },
   "outputs": [
    {
     "data": {
      "image/png": "[encoded data removed]",
      "text/plain": [
       "<Figure size 1440x288 with 5 Axes>"
      ]
     },
     "metadata": {
      "needs_background": "light"
     },
     "output_type": "display_data"
    }
   ],
   "source": [
    "plot_misclassifications(misclassification)"
   ]
  },
  {
   "cell_type": "markdown",
   "metadata": {
    "id": "-VWgMJyfC9Iq"
   },
   "source": [
    "# PCA"
   ]
  },
  {
   "cell_type": "code",
   "execution_count": 48,
   "metadata": {},
   "outputs": [],
   "source": [
    "X_train, X_test, y_train, y_test = train_test_split(X, y, test_size=0.2, random_state=34)\n"
   ]
  },
  {
   "cell_type": "code",
   "execution_count": 49,
   "metadata": {},
   "outputs": [],
   "source": [
    "sc = StandardScaler()\n",
    "X_train = sc.fit_transform(X_train)\n",
    "\n",
    "X_test = sc.transform(X_test)"
   ]
  },
  {
   "cell_type": "code",
   "execution_count": 55,
   "metadata": {},
   "outputs": [],
   "source": [
    "pca = PCA()\n",
    "X_train = pca.fit_transform(X_train)\n",
    "X_test = pca.transform(X_test)"
   ]
  },
  {
   "cell_type": "code",
   "execution_count": 58,
   "metadata": {},
   "outputs": [
    {
     "data": {
      "text/plain": [
       "array([1.20494543e-01, 9.94077696e-02, 8.59242439e-02, 6.77024462e-02,\n",
       "       4.97893655e-02, 4.31000381e-02, 4.07911289e-02, 3.37404692e-02,\n",
       "       3.05679142e-02, 2.96542487e-02, 2.71088226e-02, 2.61728281e-02,\n",
       "       2.32446539e-02, 2.25724583e-02, 2.13676417e-02, 1.90543129e-02,\n",
       "       1.75483153e-02, 1.62511331e-02, 1.51436943e-02, 1.40154458e-02,\n",
       "       1.30069319e-02, 1.18898252e-02, 1.06354269e-02, 9.71819340e-03,\n",
       "       9.56450701e-03, 9.12389209e-03, 8.47909821e-03, 8.24605065e-03,\n",
       "       7.48008340e-03, 7.31162934e-03, 6.95565581e-03, 6.66244377e-03,\n",
       "       6.34985070e-03, 5.95571224e-03, 5.82194387e-03, 5.55115749e-03,\n",
       "       4.85613344e-03, 4.52711385e-03, 4.44482525e-03, 4.10822013e-03,\n",
       "       3.92723707e-03, 3.67672759e-03, 3.51441157e-03, 3.28366707e-03,\n",
       "       3.18956946e-03, 2.95885580e-03, 2.80278809e-03, 2.59113417e-03,\n",
       "       2.40150348e-03, 2.22336917e-03, 1.98592314e-03, 1.97914148e-03,\n",
       "       1.86154643e-03, 1.70530497e-03, 1.64338128e-03, 1.44872459e-03,\n",
       "       1.35335734e-03, 1.23189321e-03, 1.04038737e-03, 8.40908770e-04,\n",
       "       2.78669193e-33, 5.42521907e-34, 5.42521907e-34, 5.22257161e-34])"
      ]
     },
     "execution_count": 58,
     "metadata": {},
     "output_type": "execute_result"
    }
   ],
   "source": [
    "explained_variance = pca.explained_variance_ratio_\n",
    "explained_variance"
   ]
  },
  {
   "cell_type": "code",
   "execution_count": 61,
   "metadata": {},
   "outputs": [],
   "source": [
    "def perfrom_pca(n):\n",
    "    X_train, X_test, y_train, y_test = train_test_split(X, y, test_size=0.2, random_state=0)\n",
    "    pca = PCA(n_components=n)\n",
    "    pca_x_train = pca.fit_transform(X_train)\n",
    "    pca_x_test = pca.transform(X_test)\n",
    "    classifier = RandomForestClassifier(max_depth=2, random_state=0)\n",
    "    classifier.fit(pca_x_train, y_train)\n",
    "    y_pred = classifier.predict(pca_x_test)\n",
    "    cm = confusion_matrix(y_test, y_pred)\n",
    "    print(x)\n",
    "    print('Accuracy {0}\\n\\n'.format(accuracy_score(y_test, y_pred)))"
   ]
  },
  {
   "cell_type": "code",
   "execution_count": 62,
   "metadata": {},
   "outputs": [
    {
     "name": "stdout",
     "output_type": "stream",
     "text": [
      "1\n",
      "Accuracy 0.30277777777777776\n",
      "\n",
      "\n",
      "2\n",
      "Accuracy 0.4638888888888889\n",
      "\n",
      "\n",
      "3\n",
      "Accuracy 0.5194444444444445\n",
      "\n",
      "\n",
      "4\n",
      "Accuracy 0.49166666666666664\n",
      "\n",
      "\n",
      "5\n",
      "Accuracy 0.6027777777777777\n",
      "\n",
      "\n",
      "6\n",
      "Accuracy 0.5888888888888889\n",
      "\n",
      "\n",
      "7\n",
      "Accuracy 0.6055555555555555\n",
      "\n",
      "\n",
      "8\n",
      "Accuracy 0.6388888888888888\n",
      "\n",
      "\n",
      "9\n",
      "Accuracy 0.6\n",
      "\n",
      "\n",
      "10\n",
      "Accuracy 0.6333333333333333\n",
      "\n",
      "\n",
      "11\n",
      "Accuracy 0.725\n",
      "\n",
      "\n",
      "12\n",
      "Accuracy 0.7388888888888889\n",
      "\n",
      "\n",
      "13\n",
      "Accuracy 0.7583333333333333\n",
      "\n",
      "\n",
      "14\n",
      "Accuracy 0.7444444444444445\n",
      "\n",
      "\n",
      "15\n",
      "Accuracy 0.7138888888888889\n",
      "\n",
      "\n",
      "16\n",
      "Accuracy 0.75\n",
      "\n",
      "\n",
      "17\n",
      "Accuracy 0.7416666666666667\n",
      "\n",
      "\n",
      "18\n",
      "Accuracy 0.7361111111111112\n",
      "\n",
      "\n",
      "19\n",
      "Accuracy 0.7611111111111111\n",
      "\n",
      "\n",
      "20\n",
      "Accuracy 0.775\n",
      "\n",
      "\n",
      "21\n",
      "Accuracy 0.7583333333333333\n",
      "\n",
      "\n",
      "22\n",
      "Accuracy 0.7833333333333333\n",
      "\n",
      "\n",
      "23\n",
      "Accuracy 0.7555555555555555\n",
      "\n",
      "\n",
      "24\n",
      "Accuracy 0.7833333333333333\n",
      "\n",
      "\n",
      "25\n",
      "Accuracy 0.7444444444444445\n",
      "\n",
      "\n",
      "26\n",
      "Accuracy 0.7916666666666666\n",
      "\n",
      "\n",
      "27\n",
      "Accuracy 0.7888888888888889\n",
      "\n",
      "\n",
      "28\n",
      "Accuracy 0.7833333333333333\n",
      "\n",
      "\n",
      "29\n",
      "Accuracy 0.7638888888888888\n",
      "\n",
      "\n",
      "30\n",
      "Accuracy 0.7972222222222223\n",
      "\n",
      "\n",
      "31\n",
      "Accuracy 0.7555555555555555\n",
      "\n",
      "\n",
      "32\n",
      "Accuracy 0.7527777777777778\n",
      "\n",
      "\n",
      "33\n",
      "Accuracy 0.7944444444444444\n",
      "\n",
      "\n",
      "34\n",
      "Accuracy 0.7972222222222223\n",
      "\n",
      "\n",
      "35\n",
      "Accuracy 0.8055555555555556\n",
      "\n",
      "\n",
      "36\n",
      "Accuracy 0.7583333333333333\n",
      "\n",
      "\n",
      "37\n",
      "Accuracy 0.7444444444444445\n",
      "\n",
      "\n",
      "38\n",
      "Accuracy 0.775\n",
      "\n",
      "\n",
      "39\n",
      "Accuracy 0.8027777777777778\n",
      "\n",
      "\n",
      "40\n",
      "Accuracy 0.7916666666666666\n",
      "\n",
      "\n",
      "41\n",
      "Accuracy 0.7833333333333333\n",
      "\n",
      "\n",
      "42\n",
      "Accuracy 0.7916666666666666\n",
      "\n",
      "\n",
      "43\n",
      "Accuracy 0.775\n",
      "\n",
      "\n",
      "44\n",
      "Accuracy 0.7805555555555556\n",
      "\n",
      "\n",
      "45\n",
      "Accuracy 0.7833333333333333\n",
      "\n",
      "\n",
      "46\n",
      "Accuracy 0.7638888888888888\n",
      "\n",
      "\n",
      "47\n",
      "Accuracy 0.8\n",
      "\n",
      "\n",
      "48\n",
      "Accuracy 0.7638888888888888\n",
      "\n",
      "\n",
      "49\n",
      "Accuracy 0.7305555555555555\n",
      "\n",
      "\n",
      "50\n",
      "Accuracy 0.7694444444444445\n",
      "\n",
      "\n",
      "51\n",
      "Accuracy 0.7861111111111111\n",
      "\n",
      "\n",
      "52\n",
      "Accuracy 0.8277777777777777\n",
      "\n",
      "\n",
      "53\n",
      "Accuracy 0.7638888888888888\n",
      "\n",
      "\n",
      "54\n",
      "Accuracy 0.7638888888888888\n",
      "\n",
      "\n",
      "55\n",
      "Accuracy 0.7972222222222223\n",
      "\n",
      "\n",
      "56\n",
      "Accuracy 0.7638888888888888\n",
      "\n",
      "\n",
      "57\n",
      "Accuracy 0.7555555555555555\n",
      "\n",
      "\n",
      "58\n",
      "Accuracy 0.75\n",
      "\n",
      "\n",
      "59\n",
      "Accuracy 0.7777777777777778\n",
      "\n",
      "\n",
      "60\n",
      "Accuracy 0.7805555555555556\n",
      "\n",
      "\n",
      "61\n",
      "Accuracy 0.7861111111111111\n",
      "\n",
      "\n",
      "62\n",
      "Accuracy 0.7888888888888889\n",
      "\n",
      "\n",
      "63\n",
      "Accuracy 0.8027777777777778\n",
      "\n",
      "\n"
     ]
    }
   ],
   "source": [
    "for x in range(1,64): perfrom_pca(x)"
   ]
  },
  {
   "cell_type": "code",
   "execution_count": 64,
   "metadata": {},
   "outputs": [
    {
     "name": "stdout",
     "output_type": "stream",
     "text": [
      "[[25  0  0  1  0  0  0  1  0  0]\n",
      " [ 0 19  7  1  2  2  4  0  0  0]\n",
      " [ 0  0 28  5  0  0  0  2  0  1]\n",
      " [ 0  0  3 25  0  0  0  0  0  1]\n",
      " [ 0  0  0  0 28  0  0  2  0  0]\n",
      " [ 1  1  1  1  0 32  0  3  1  0]\n",
      " [ 0  0  0  0  3  0 40  0  0  1]\n",
      " [ 0  0  0  2  1  0  0 35  0  1]\n",
      " [ 0  2  5  9  0  0  0  5 17  1]\n",
      " [ 0  0  1 11  0  4  0  1  0 24]]\n",
      "Accuracy 0.7583333333333333\n",
      "\n",
      "\n"
     ]
    }
   ],
   "source": [
    "X_train, X_test, y_train, y_test = train_test_split(X, y, test_size=0.2, random_state=0)\n",
    "pca = PCA(n_components=13)\n",
    "pca_x_train = pca.fit_transform(X_train)\n",
    "pca_x_test = pca.transform(X_test)\n",
    "classifier = RandomForestClassifier(max_depth=2, random_state=0)\n",
    "classifier.fit(pca_x_train, y_train)\n",
    "y_pred = classifier.predict(pca_x_test)\n",
    "cm = confusion_matrix(y_test, y_pred)\n",
    "print(cm)\n",
    "print('Accuracy {0}\\n\\n'.format(accuracy_score(y_test, y_pred)))"
   ]
  },
  {
   "cell_type": "code",
   "execution_count": 65,
   "metadata": {},
   "outputs": [
    {
     "data": {
      "text/plain": [
       "array([[ 23.37875558,   4.96621557,  18.36832775, ...,  -5.41466457,\n",
       "          3.47570237,   1.28575779],\n",
       "       [-15.21541983,  15.48612664,   6.70861474, ...,   1.78204495,\n",
       "         -1.6216954 ,   3.60597476],\n",
       "       [-21.04423221,   4.89826529, -21.09532946, ...,   3.62469876,\n",
       "          4.93796934,   1.67735967],\n",
       "       ...,\n",
       "       [  3.47672733, -18.65116331,  -0.86309567, ...,  -0.47941171,\n",
       "         -1.13945052,   1.73933558],\n",
       "       [  3.21484629, -15.29049426, -15.56784962, ...,  -2.98544536,\n",
       "          2.36410857,   0.3877457 ],\n",
       "       [ -4.29187482,  -2.59967359,   7.88537348, ...,   1.74057626,\n",
       "        -14.36362474,  -3.38905163]])"
      ]
     },
     "execution_count": 65,
     "metadata": {},
     "output_type": "execute_result"
    }
   ],
   "source": [
    "pca_x_train"
   ]
  },
  {
   "cell_type": "code",
   "execution_count": 66,
   "metadata": {},
   "outputs": [
    {
     "data": {
      "text/plain": [
       "array([2, 8, 2, 6, 6, 7, 1, 9, 8, 5, 2, 8, 6, 6, 6, 6, 1, 0, 5, 8, 8, 7,\n",
       "       8, 4, 7, 5, 4, 9, 2, 9, 4, 7, 6, 8, 9, 4, 3, 1, 0, 1, 8, 6, 7, 7,\n",
       "       1, 0, 7, 6, 2, 1, 9, 6, 7, 9, 0, 0, 5, 1, 6, 3, 0, 2, 3, 4, 1, 9,\n",
       "       2, 6, 9, 1, 8, 3, 5, 1, 2, 8, 2, 2, 9, 7, 2, 3, 6, 0, 5, 3, 7, 5,\n",
       "       1, 2, 9, 9, 3, 1, 7, 7, 4, 8, 5, 8, 5, 5, 2, 5, 9, 0, 7, 1, 4, 7,\n",
       "       3, 4, 8, 9, 7, 9, 8, 2, 6, 5, 2, 5, 8, 4, 8, 7, 0, 6, 1, 5, 9, 9,\n",
       "       9, 5, 9, 9, 5, 7, 5, 6, 2, 8, 6, 9, 6, 1, 5, 1, 5, 9, 9, 1, 5, 3,\n",
       "       6, 1, 8, 9, 8, 7, 6, 7, 6, 5, 6, 0, 8, 8, 9, 8, 6, 1, 0, 4, 1, 6,\n",
       "       3, 8, 6, 7, 4, 5, 6, 3, 0, 3, 3, 3, 0, 7, 7, 5, 7, 8, 0, 7, 8, 9,\n",
       "       6, 4, 5, 0, 1, 4, 6, 4, 3, 3, 0, 9, 5, 9, 2, 1, 4, 2, 1, 6, 8, 9,\n",
       "       2, 4, 9, 3, 7, 6, 2, 3, 3, 1, 6, 9, 3, 6, 3, 2, 2, 0, 7, 6, 1, 1,\n",
       "       9, 7, 2, 7, 8, 5, 5, 7, 5, 2, 3, 7, 2, 7, 5, 5, 7, 0, 9, 1, 6, 5,\n",
       "       9, 7, 4, 3, 8, 0, 3, 6, 4, 6, 3, 2, 6, 8, 8, 8, 4, 6, 7, 5, 2, 4,\n",
       "       5, 3, 2, 4, 6, 9, 4, 5, 4, 3, 4, 6, 2, 9, 0, 1, 7, 2, 0, 9, 6, 0,\n",
       "       4, 2, 0, 7, 9, 8, 5, 4, 8, 2, 8, 4, 3, 7, 2, 6, 9, 1, 5, 1, 0, 8,\n",
       "       2, 1, 9, 5, 6, 8, 2, 7, 2, 1, 5, 1, 6, 4, 5, 0, 9, 4, 1, 1, 7, 0,\n",
       "       8, 9, 0, 5, 4, 3, 8, 8])"
      ]
     },
     "execution_count": 66,
     "metadata": {},
     "output_type": "execute_result"
    }
   ],
   "source": [
    "y_test"
   ]
  },
  {
   "cell_type": "code",
   "execution_count": 68,
   "metadata": {},
   "outputs": [
    {
     "data": {
      "text/plain": [
       "array([2, 8, 2, 6, 6, 7, 1, 3, 2, 5, 2, 7, 6, 6, 6, 6, 1, 0, 5, 7, 8, 7,\n",
       "       2, 4, 7, 5, 4, 9, 2, 9, 4, 7, 6, 8, 9, 4, 2, 4, 0, 1, 1, 6, 7, 7,\n",
       "       2, 0, 3, 4, 2, 1, 9, 6, 7, 3, 0, 0, 1, 2, 6, 3, 0, 2, 3, 4, 2, 9,\n",
       "       7, 4, 9, 1, 8, 3, 7, 1, 2, 3, 2, 9, 3, 7, 2, 3, 6, 0, 7, 3, 7, 2,\n",
       "       5, 2, 9, 5, 3, 1, 7, 7, 4, 8, 5, 8, 5, 5, 3, 5, 3, 0, 7, 2, 4, 3,\n",
       "       3, 4, 8, 9, 7, 7, 8, 3, 9, 5, 2, 5, 3, 4, 2, 7, 0, 6, 1, 5, 5, 9,\n",
       "       9, 5, 9, 3, 5, 7, 5, 6, 2, 8, 6, 9, 6, 1, 5, 6, 5, 9, 3, 1, 5, 3,\n",
       "       6, 1, 7, 9, 8, 7, 6, 7, 6, 5, 6, 0, 8, 9, 9, 3, 6, 3, 7, 7, 1, 6,\n",
       "       3, 3, 6, 7, 4, 3, 6, 3, 0, 9, 3, 3, 0, 4, 7, 5, 7, 8, 0, 7, 2, 9,\n",
       "       6, 4, 5, 0, 2, 4, 6, 4, 3, 3, 0, 9, 5, 2, 3, 1, 4, 7, 5, 4, 8, 3,\n",
       "       2, 4, 9, 2, 7, 6, 2, 3, 2, 4, 6, 9, 3, 6, 3, 3, 2, 0, 7, 6, 1, 6,\n",
       "       3, 7, 2, 7, 1, 5, 5, 7, 5, 2, 3, 7, 2, 7, 0, 5, 7, 0, 9, 1, 6, 5,\n",
       "       3, 9, 4, 3, 3, 0, 3, 6, 4, 6, 3, 3, 6, 8, 8, 7, 4, 6, 7, 5, 2, 4,\n",
       "       8, 3, 2, 4, 6, 9, 4, 5, 4, 3, 4, 6, 2, 3, 0, 6, 7, 2, 0, 9, 6, 0,\n",
       "       4, 2, 0, 7, 5, 8, 5, 7, 7, 2, 3, 4, 3, 7, 2, 6, 5, 1, 5, 2, 0, 3,\n",
       "       2, 6, 3, 7, 6, 2, 2, 7, 2, 1, 5, 1, 6, 4, 5, 0, 9, 4, 1, 2, 7, 0,\n",
       "       8, 9, 3, 5, 4, 3, 3, 3])"
      ]
     },
     "execution_count": 68,
     "metadata": {},
     "output_type": "execute_result"
    }
   ],
   "source": [
    "y_pred"
   ]
  },
  {
   "cell_type": "code",
   "execution_count": 69,
   "metadata": {},
   "outputs": [],
   "source": [
    "clrep = classification_report(y_test, y_pred)"
   ]
  },
  {
   "cell_type": "code",
   "execution_count": 70,
   "metadata": {},
   "outputs": [
    {
     "name": "stdout",
     "output_type": "stream",
     "text": [
      "              precision    recall  f1-score   support\n",
      "\n",
      "           0       0.96      0.93      0.94        27\n",
      "           1       0.86      0.54      0.67        35\n",
      "           2       0.62      0.78      0.69        36\n",
      "           3       0.45      0.86      0.60        29\n",
      "           4       0.82      0.93      0.87        30\n",
      "           5       0.84      0.80      0.82        40\n",
      "           6       0.91      0.91      0.91        44\n",
      "           7       0.71      0.90      0.80        39\n",
      "           8       0.94      0.44      0.60        39\n",
      "           9       0.83      0.59      0.69        41\n",
      "\n",
      "    accuracy                           0.76       360\n",
      "   macro avg       0.80      0.77      0.76       360\n",
      "weighted avg       0.80      0.76      0.76       360\n",
      "\n"
     ]
    }
   ],
   "source": [
    "print(clrep)"
   ]
  },
  {
   "cell_type": "markdown",
   "metadata": {},
   "source": [
    "# FA"
   ]
  },
  {
   "cell_type": "code",
   "execution_count": 81,
   "metadata": {},
   "outputs": [],
   "source": [
    "X_train, X_test, y_train, y_test = train_test_split(X, y, test_size=0.2, random_state=34)"
   ]
  },
  {
   "cell_type": "code",
   "execution_count": 82,
   "metadata": {},
   "outputs": [],
   "source": [
    "sc = StandardScaler()\n",
    "X_train = sc.fit_transform(X_train)\n",
    "\n",
    "X_test = sc.transform(X_test)"
   ]
  },
  {
   "cell_type": "code",
   "execution_count": 83,
   "metadata": {},
   "outputs": [
    {
     "name": "stdout",
     "output_type": "stream",
     "text": [
      "[[37  0  0  0  1  0  0  0  0  0]\n",
      " [ 0 30  1  0  1  0  2  0  1  2]\n",
      " [ 0  0 21  2  2  1  0  6  0  0]\n",
      " [ 0  0  4 24  0  2  1  3  0 13]\n",
      " [ 0  0  0  0 36  0  0  2  1  0]\n",
      " [ 0  0  0  0  0 32  1  0  0  5]\n",
      " [ 1  2  0  0  1  1 29  0  0  0]\n",
      " [ 0  0  0  0  1  0  0 22  0  2]\n",
      " [ 2 10  1  2  2  4  1  0 20  0]\n",
      " [ 0  2  0  0  2  1  1  1  0 21]]\n",
      "Accuracy 0.7555555555555555\n",
      "\n",
      "\n"
     ]
    }
   ],
   "source": [
    "fa = FA()\n",
    "fa_x_train = fa.fit_transform(X_train)\n",
    "fa_x_test = fa.transform(X_test)\n",
    "classifier = RandomForestClassifier(max_depth=2, random_state=0)\n",
    "classifier.fit(fa_x_train, y_train)\n",
    "y_pred = classifier.predict(fa_x_test)\n",
    "cm = confusion_matrix(y_test, y_pred)\n",
    "print(cm)\n",
    "print('Accuracy {0}\\n\\n'.format(accuracy_score(y_test, y_pred)))"
   ]
  },
  {
   "cell_type": "code",
   "execution_count": 84,
   "metadata": {},
   "outputs": [
    {
     "data": {
      "text/plain": [
       "array([[-0.09243358, -0.20955981, -0.95722698, ...,  0.        ,\n",
       "         0.        ,  0.        ],\n",
       "       [ 0.5534053 ,  1.50507353, -0.0182733 , ...,  0.        ,\n",
       "         0.        ,  0.        ],\n",
       "       [-0.81486704, -0.37587722,  0.74222906, ...,  0.        ,\n",
       "         0.        ,  0.        ],\n",
       "       ...,\n",
       "       [ 1.19313235, -1.34636429,  0.69695574, ...,  0.        ,\n",
       "         0.        ,  0.        ],\n",
       "       [-0.71157671,  0.0774819 , -0.57494569, ...,  0.        ,\n",
       "         0.        ,  0.        ],\n",
       "       [ 0.37535447, -1.67897419, -0.27031506, ...,  0.        ,\n",
       "         0.        ,  0.        ]])"
      ]
     },
     "execution_count": 84,
     "metadata": {},
     "output_type": "execute_result"
    }
   ],
   "source": [
    "fa_x_train\n"
   ]
  },
  {
   "cell_type": "code",
   "execution_count": 85,
   "metadata": {},
   "outputs": [
    {
     "data": {
      "text/plain": [
       "array([5, 3, 2, 6, 2, 2, 7, 3, 0, 8, 7, 7, 5, 5, 8, 0, 4, 2, 0, 2, 1, 8,\n",
       "       6, 1, 6, 7, 1, 1, 3, 1, 8, 2, 8, 3, 3, 7, 6, 5, 1, 4, 4, 6, 8, 6,\n",
       "       6, 1, 4, 9, 5, 0, 9, 8, 7, 6, 0, 6, 8, 3, 4, 3, 4, 1, 9, 2, 3, 4,\n",
       "       9, 5, 9, 0, 1, 2, 9, 7, 3, 9, 5, 7, 0, 2, 4, 3, 4, 4, 3, 0, 3, 7,\n",
       "       4, 8, 1, 7, 3, 2, 5, 3, 8, 8, 6, 3, 5, 5, 6, 8, 2, 8, 6, 7, 9, 7,\n",
       "       4, 6, 1, 1, 2, 6, 0, 6, 9, 7, 2, 5, 9, 1, 9, 1, 0, 0, 4, 5, 0, 4,\n",
       "       9, 4, 5, 2, 3, 0, 9, 4, 2, 8, 4, 2, 7, 1, 9, 1, 1, 3, 5, 5, 5, 0,\n",
       "       2, 3, 8, 3, 1, 8, 8, 5, 0, 5, 5, 4, 2, 4, 3, 6, 1, 0, 4, 1, 0, 0,\n",
       "       8, 6, 0, 4, 8, 0, 0, 2, 4, 8, 2, 0, 3, 6, 5, 1, 3, 4, 4, 2, 8, 2,\n",
       "       1, 4, 8, 6, 9, 9, 8, 9, 5, 8, 2, 3, 3, 6, 1, 4, 1, 0, 5, 7, 8, 9,\n",
       "       9, 9, 6, 2, 3, 7, 5, 4, 0, 3, 6, 4, 5, 1, 8, 0, 8, 6, 2, 0, 1, 9,\n",
       "       2, 1, 6, 1, 8, 9, 3, 5, 4, 8, 4, 4, 8, 9, 8, 8, 6, 4, 3, 7, 5, 4,\n",
       "       9, 5, 2, 4, 3, 3, 5, 8, 3, 8, 3, 5, 9, 7, 5, 1, 0, 3, 2, 3, 7, 3,\n",
       "       3, 0, 5, 3, 8, 0, 9, 8, 7, 6, 2, 6, 7, 1, 5, 2, 0, 7, 8, 6, 4, 6,\n",
       "       3, 0, 2, 7, 5, 6, 3, 5, 4, 1, 3, 1, 8, 0, 9, 3, 3, 8, 1, 3, 1, 4,\n",
       "       5, 2, 6, 0, 8, 3, 3, 6, 9, 8, 7, 1, 0, 5, 1, 6, 5, 0, 0, 1, 0, 7,\n",
       "       3, 4, 4, 6, 0, 5, 3, 8])"
      ]
     },
     "execution_count": 85,
     "metadata": {},
     "output_type": "execute_result"
    }
   ],
   "source": [
    "y_test"
   ]
  },
  {
   "cell_type": "code",
   "execution_count": 86,
   "metadata": {},
   "outputs": [
    {
     "data": {
      "text/plain": [
       "array([5, 3, 2, 6, 2, 7, 7, 3, 0, 1, 7, 9, 5, 5, 5, 0, 4, 2, 0, 2, 1, 1,\n",
       "       5, 8, 6, 7, 1, 1, 9, 1, 8, 3, 1, 3, 7, 7, 6, 5, 1, 4, 4, 6, 8, 6,\n",
       "       6, 9, 4, 9, 5, 0, 9, 1, 7, 6, 0, 1, 1, 3, 4, 7, 8, 1, 9, 2, 3, 4,\n",
       "       9, 5, 6, 0, 1, 2, 5, 7, 3, 9, 9, 7, 0, 7, 4, 3, 7, 4, 5, 0, 9, 7,\n",
       "       4, 3, 2, 7, 9, 2, 5, 3, 8, 4, 6, 3, 5, 5, 6, 4, 2, 8, 0, 9, 9, 7,\n",
       "       4, 6, 1, 1, 2, 6, 0, 6, 1, 7, 2, 9, 9, 1, 1, 1, 0, 0, 4, 5, 0, 4,\n",
       "       9, 4, 5, 2, 9, 0, 9, 4, 5, 8, 4, 4, 7, 1, 9, 1, 6, 3, 5, 5, 5, 0,\n",
       "       2, 3, 8, 3, 1, 8, 8, 5, 0, 9, 5, 4, 2, 4, 7, 6, 1, 0, 4, 1, 0, 0,\n",
       "       5, 6, 0, 4, 8, 0, 0, 7, 4, 0, 2, 0, 3, 6, 5, 1, 3, 7, 4, 2, 1, 2,\n",
       "       6, 4, 8, 6, 4, 9, 1, 9, 5, 1, 2, 3, 9, 1, 1, 4, 1, 0, 5, 7, 3, 4,\n",
       "       9, 9, 6, 2, 9, 7, 5, 4, 0, 9, 6, 4, 5, 1, 8, 0, 8, 6, 7, 0, 1, 9,\n",
       "       7, 1, 4, 1, 8, 9, 9, 6, 4, 8, 4, 4, 1, 9, 8, 2, 6, 4, 9, 7, 5, 4,\n",
       "       7, 5, 2, 4, 2, 9, 5, 8, 3, 8, 3, 5, 9, 7, 5, 1, 0, 2, 2, 3, 7, 5,\n",
       "       3, 0, 9, 9, 1, 0, 9, 8, 7, 6, 4, 6, 7, 4, 5, 7, 0, 7, 0, 6, 4, 6,\n",
       "       3, 0, 2, 7, 5, 6, 9, 5, 4, 1, 3, 1, 6, 0, 9, 6, 3, 5, 1, 9, 1, 4,\n",
       "       5, 3, 6, 0, 5, 3, 3, 6, 9, 8, 4, 1, 0, 9, 1, 6, 5, 4, 0, 9, 0, 7,\n",
       "       2, 4, 4, 6, 0, 5, 2, 8])"
      ]
     },
     "execution_count": 86,
     "metadata": {},
     "output_type": "execute_result"
    }
   ],
   "source": [
    "y_pred"
   ]
  },
  {
   "cell_type": "code",
   "execution_count": 87,
   "metadata": {},
   "outputs": [
    {
     "name": "stdout",
     "output_type": "stream",
     "text": [
      "              precision    recall  f1-score   support\n",
      "\n",
      "           0       0.93      0.97      0.95        38\n",
      "           1       0.68      0.81      0.74        37\n",
      "           2       0.78      0.66      0.71        32\n",
      "           3       0.86      0.51      0.64        47\n",
      "           4       0.78      0.92      0.85        39\n",
      "           5       0.78      0.84      0.81        38\n",
      "           6       0.83      0.85      0.84        34\n",
      "           7       0.65      0.88      0.75        25\n",
      "           8       0.91      0.48      0.62        42\n",
      "           9       0.49      0.75      0.59        28\n",
      "\n",
      "    accuracy                           0.76       360\n",
      "   macro avg       0.77      0.77      0.75       360\n",
      "weighted avg       0.78      0.76      0.75       360\n",
      "\n"
     ]
    }
   ],
   "source": [
    "clrep = classification_report(y_test, y_pred)\n",
    "print(clrep)"
   ]
  },
  {
   "cell_type": "code",
   "execution_count": null,
   "metadata": {},
   "outputs": [],
   "source": []
  }
 ],
 "metadata": {
  "colab": {
   "name": "LDA Hands-on",
   "provenance": []
  },
  "kernelspec": {
   "display_name": "Python 3 (ipykernel)",
   "language": "python",
   "name": "python3"
  },
  "language_info": {
   "codemirror_mode": {
    "name": "ipython",
    "version": 3
   },
   "file_extension": ".py",
   "mimetype": "text/x-python",
   "name": "python",
   "nbconvert_exporter": "python",
   "pygments_lexer": "ipython3",
   "version": "3.9.12"
  }
 },
 "nbformat": 4,
 "nbformat_minor": 1
}
